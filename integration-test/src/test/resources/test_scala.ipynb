/**
 * Licensed to the Apache Software Foundation (ASF) under one
 * or more contributor license agreements.  See the NOTICE file
 * distributed with this work for additional information
 * regarding copyright ownership.  The ASF licenses this file
 * to you under the Apache License, Version 2.0 (the
 * "License"); you may not use this file except in compliance
 * with the License.  You may obtain a copy of the License at
 * <p>
 * http://www.apache.org/licenses/LICENSE-2.0
 * <p>
 * Unless required by applicable law or agreed to in writing,
 * software distributed under the License is distributed on an
 * "AS IS" BASIS, WITHOUT WARRANTIES OR CONDITIONS OF ANY
 * KIND, either express or implied.  See the License for the
 * specific language governing permissions and limitations
 * under the License.
 */

{
 "cells": [
  {
   "cell_type": "code",
   "execution_count": 1,
   "id": "e7d9e5f2",
   "metadata": {},
   "outputs": [
   ],
   "source": [
    "%%scala\n",
    "import org.apache.spark.sql.Row\n",
    "import org.apache.spark.sql.SparkSession\n",
    "\n",
    "val spark = SparkSession.builder().appName(\"predict_id_insur_lr\").getOrCreate()\n",
    "println(spark.version)\n",
    "\n",
    "val df = spark.sparkContext.parallelize(Seq((\"a\", 10), (\"b\", 20), (\"c\", 30))).toDF(\"name\", \"age\")\n",
    "df.printSchema\n",
    "\n",
    "val parsed = df.map{ case Row(name: String, age: Int) =>\n",
    "    (name, age+1)\n",
    "}\n",
    "parsed.show(5)"
   ]
  }
 ],
 "metadata": {
  "kernelspec": {
   "display_name": "Spark",
   "language": "scala",
   "name": "sparkkernel"
  },
  "language_info": {
   "codemirror_mode": "text/x-scala",
   "file_extension": ".sc",
   "mimetype": "text/x-scala",
   "name": "scala",
   "pygments_lexer": "scala"
  }
 },
 "nbformat": 4,
 "nbformat_minor": 5
}
